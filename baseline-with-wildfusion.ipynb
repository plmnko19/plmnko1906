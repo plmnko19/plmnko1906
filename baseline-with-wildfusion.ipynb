{
 "cells": [
  {
   "cell_type": "markdown",
   "id": "dd5d9c7d",
   "metadata": {
    "papermill": {
     "duration": 0.003569,
     "end_time": "2025-03-31T09:40:57.290364",
     "exception": false,
     "start_time": "2025-03-31T09:40:57.286795",
     "status": "completed"
    },
    "tags": []
   },
   "source": [
    "# Baseline with WildFusion 🦙 🧬\n",
    "\n",
    "This notebook presents an improved baseline for individual identification using the **[MegaDescriptor](https://arxiv.org/pdf/2311.09118)** with **[ALIKED](https://arxiv.org/pdf/2304.03608)** methods, combined using [WildFusion](https://arxiv.org/pdf/2408.12934).\n",
    "\n",
    "## What is WildFusion?  \n",
    "WildFusion is a **feature fusion method** designed to improve the accuracy and robustness of models in individual recognition tasks. Traditional identification models often rely on a single type of feature representation, which may struggle with variations in lighting, angles, and occlusions. WildFusion overcomes these challenges by combining multiple feature extraction techniques, resulting in a more comprehensive and adaptable approach.  "
   ]
  },
  {
   "cell_type": "markdown",
   "id": "1e74b7e8",
   "metadata": {
    "execution": {
     "iopub.execute_input": "2025-02-28T16:18:13.120497Z",
     "iopub.status.busy": "2025-02-28T16:18:13.120141Z",
     "iopub.status.idle": "2025-02-28T16:18:13.1244Z",
     "shell.execute_reply": "2025-02-28T16:18:13.12338Z",
     "shell.execute_reply.started": "2025-02-28T16:18:13.120467Z"
    },
    "papermill": {
     "duration": 0.002623,
     "end_time": "2025-03-31T09:40:57.296072",
     "exception": false,
     "start_time": "2025-03-31T09:40:57.293449",
     "status": "completed"
    },
    "tags": []
   },
   "source": [
    "## Dependencies instalation\n",
    "For the competition we provide two Python packages for loading and preprocessing of available datasets ([wildlife-datasets](https://github.com/WildlifeDatasets/wildlife-datasets)) and tools / method for animal re-identification ([wildlife-tools](https://github.com/WildlifeDatasets/wildlife-tools))."
   ]
  },
  {
   "cell_type": "code",
   "execution_count": 1,
   "id": "0216b04a",
   "metadata": {
    "_kg_hide-output": true,
    "execution": {
     "iopub.execute_input": "2025-03-31T09:40:57.302728Z",
     "iopub.status.busy": "2025-03-31T09:40:57.302441Z",
     "iopub.status.idle": "2025-03-31T09:41:36.385645Z",
     "shell.execute_reply": "2025-03-31T09:41:36.384566Z"
    },
    "papermill": {
     "duration": 39.088402,
     "end_time": "2025-03-31T09:41:36.387211",
     "exception": false,
     "start_time": "2025-03-31T09:40:57.298809",
     "status": "completed"
    },
    "tags": []
   },
   "outputs": [
    {
     "name": "stdout",
     "output_type": "stream",
     "text": [
      "Collecting git+https://github.com/WildlifeDatasets/wildlife-datasets@develop\r\n",
      "  Cloning https://github.com/WildlifeDatasets/wildlife-datasets (to revision develop) to /tmp/pip-req-build-y4bly97n\r\n",
      "  Running command git clone --filter=blob:none --quiet https://github.com/WildlifeDatasets/wildlife-datasets /tmp/pip-req-build-y4bly97n\r\n",
      "  Running command git checkout -b develop --track origin/develop\r\n",
      "  Switched to a new branch 'develop'\r\n",
      "  Branch 'develop' set up to track remote branch 'develop' from 'origin'.\r\n",
      "  Resolved https://github.com/WildlifeDatasets/wildlife-datasets to commit 298b9a0b566a56ccc76727928a1bb8126833730a\r\n",
      "  Installing build dependencies ... \u001b[?25l\u001b[?25hdone\r\n",
      "  Getting requirements to build wheel ... \u001b[?25l\u001b[?25hdone\r\n",
      "  Preparing metadata (pyproject.toml) ... \u001b[?25l\u001b[?25hdone\r\n",
      "Requirement already satisfied: numpy>=1.19.4 in /usr/local/lib/python3.10/dist-packages (from wildlife-datasets==1.0.5) (1.26.4)\r\n",
      "Requirement already satisfied: pandas>=1.1.4 in /usr/local/lib/python3.10/dist-packages (from wildlife-datasets==1.0.5) (2.2.3)\r\n",
      "Requirement already satisfied: tqdm>=4.62.3 in /usr/local/lib/python3.10/dist-packages (from wildlife-datasets==1.0.5) (4.67.1)\r\n",
      "Requirement already satisfied: opencv-python>=4.5.5.62 in /usr/local/lib/python3.10/dist-packages (from wildlife-datasets==1.0.5) (4.10.0.84)\r\n",
      "Requirement already satisfied: Pillow>=7.1.2 in /usr/local/lib/python3.10/dist-packages (from wildlife-datasets==1.0.5) (11.0.0)\r\n",
      "Requirement already satisfied: scikit-learn>=1.0.1 in /usr/local/lib/python3.10/dist-packages (from wildlife-datasets==1.0.5) (1.2.2)\r\n",
      "Requirement already satisfied: matplotlib>=3.5.1 in /usr/local/lib/python3.10/dist-packages (from wildlife-datasets==1.0.5) (3.7.5)\r\n",
      "Requirement already satisfied: pycocotools>=2.0.1 in /usr/local/lib/python3.10/dist-packages (from wildlife-datasets==1.0.5) (2.0.8)\r\n",
      "Requirement already satisfied: datasets in /usr/local/lib/python3.10/dist-packages (from wildlife-datasets==1.0.5) (3.3.1)\r\n",
      "Requirement already satisfied: gdown in /usr/local/lib/python3.10/dist-packages (from wildlife-datasets==1.0.5) (5.2.0)\r\n",
      "Requirement already satisfied: kaggle in /usr/local/lib/python3.10/dist-packages (from wildlife-datasets==1.0.5) (1.6.17)\r\n",
      "Requirement already satisfied: contourpy>=1.0.1 in /usr/local/lib/python3.10/dist-packages (from matplotlib>=3.5.1->wildlife-datasets==1.0.5) (1.3.1)\r\n",
      "Requirement already satisfied: cycler>=0.10 in /usr/local/lib/python3.10/dist-packages (from matplotlib>=3.5.1->wildlife-datasets==1.0.5) (0.12.1)\r\n",
      "Requirement already satisfied: fonttools>=4.22.0 in /usr/local/lib/python3.10/dist-packages (from matplotlib>=3.5.1->wildlife-datasets==1.0.5) (4.55.3)\r\n",
      "Requirement already satisfied: kiwisolver>=1.0.1 in /usr/local/lib/python3.10/dist-packages (from matplotlib>=3.5.1->wildlife-datasets==1.0.5) (1.4.7)\r\n",
      "Requirement already satisfied: packaging>=20.0 in /usr/local/lib/python3.10/dist-packages (from matplotlib>=3.5.1->wildlife-datasets==1.0.5) (24.2)\r\n",
      "Requirement already satisfied: pyparsing>=2.3.1 in /usr/local/lib/python3.10/dist-packages (from matplotlib>=3.5.1->wildlife-datasets==1.0.5) (3.2.0)\r\n",
      "Requirement already satisfied: python-dateutil>=2.7 in /usr/local/lib/python3.10/dist-packages (from matplotlib>=3.5.1->wildlife-datasets==1.0.5) (2.9.0.post0)\r\n",
      "Requirement already satisfied: mkl_fft in /usr/local/lib/python3.10/dist-packages (from numpy>=1.19.4->wildlife-datasets==1.0.5) (1.3.8)\r\n",
      "Requirement already satisfied: mkl_random in /usr/local/lib/python3.10/dist-packages (from numpy>=1.19.4->wildlife-datasets==1.0.5) (1.2.4)\r\n",
      "Requirement already satisfied: mkl_umath in /usr/local/lib/python3.10/dist-packages (from numpy>=1.19.4->wildlife-datasets==1.0.5) (0.1.1)\r\n",
      "Requirement already satisfied: mkl in /usr/local/lib/python3.10/dist-packages (from numpy>=1.19.4->wildlife-datasets==1.0.5) (2025.0.1)\r\n",
      "Requirement already satisfied: tbb4py in /usr/local/lib/python3.10/dist-packages (from numpy>=1.19.4->wildlife-datasets==1.0.5) (2022.0.0)\r\n",
      "Requirement already satisfied: mkl-service in /usr/local/lib/python3.10/dist-packages (from numpy>=1.19.4->wildlife-datasets==1.0.5) (2.4.1)\r\n",
      "Requirement already satisfied: pytz>=2020.1 in /usr/local/lib/python3.10/dist-packages (from pandas>=1.1.4->wildlife-datasets==1.0.5) (2025.1)\r\n",
      "Requirement already satisfied: tzdata>=2022.7 in /usr/local/lib/python3.10/dist-packages (from pandas>=1.1.4->wildlife-datasets==1.0.5) (2025.1)\r\n",
      "Requirement already satisfied: scipy>=1.3.2 in /usr/local/lib/python3.10/dist-packages (from scikit-learn>=1.0.1->wildlife-datasets==1.0.5) (1.13.1)\r\n",
      "Requirement already satisfied: joblib>=1.1.1 in /usr/local/lib/python3.10/dist-packages (from scikit-learn>=1.0.1->wildlife-datasets==1.0.5) (1.4.2)\r\n",
      "Requirement already satisfied: threadpoolctl>=2.0.0 in /usr/local/lib/python3.10/dist-packages (from scikit-learn>=1.0.1->wildlife-datasets==1.0.5) (3.5.0)\r\n",
      "Requirement already satisfied: filelock in /usr/local/lib/python3.10/dist-packages (from datasets->wildlife-datasets==1.0.5) (3.17.0)\r\n",
      "Requirement already satisfied: pyarrow>=15.0.0 in /usr/local/lib/python3.10/dist-packages (from datasets->wildlife-datasets==1.0.5) (19.0.1)\r\n",
      "Requirement already satisfied: dill<0.3.9,>=0.3.0 in /usr/local/lib/python3.10/dist-packages (from datasets->wildlife-datasets==1.0.5) (0.3.8)\r\n",
      "Requirement already satisfied: requests>=2.32.2 in /usr/local/lib/python3.10/dist-packages (from datasets->wildlife-datasets==1.0.5) (2.32.3)\r\n",
      "Requirement already satisfied: xxhash in /usr/local/lib/python3.10/dist-packages (from datasets->wildlife-datasets==1.0.5) (3.5.0)\r\n",
      "Requirement already satisfied: multiprocess<0.70.17 in /usr/local/lib/python3.10/dist-packages (from datasets->wildlife-datasets==1.0.5) (0.70.16)\r\n",
      "Requirement already satisfied: fsspec<=2024.12.0,>=2023.1.0 in /usr/local/lib/python3.10/dist-packages (from fsspec[http]<=2024.12.0,>=2023.1.0->datasets->wildlife-datasets==1.0.5) (2024.12.0)\r\n",
      "Requirement already satisfied: aiohttp in /usr/local/lib/python3.10/dist-packages (from datasets->wildlife-datasets==1.0.5) (3.11.12)\r\n",
      "Requirement already satisfied: huggingface-hub>=0.24.0 in /usr/local/lib/python3.10/dist-packages (from datasets->wildlife-datasets==1.0.5) (0.29.0)\r\n",
      "Requirement already satisfied: pyyaml>=5.1 in /usr/local/lib/python3.10/dist-packages (from datasets->wildlife-datasets==1.0.5) (6.0.2)\r\n",
      "Requirement already satisfied: beautifulsoup4 in /usr/local/lib/python3.10/dist-packages (from gdown->wildlife-datasets==1.0.5) (4.12.3)\r\n",
      "Requirement already satisfied: six>=1.10 in /usr/local/lib/python3.10/dist-packages (from kaggle->wildlife-datasets==1.0.5) (1.17.0)\r\n",
      "Requirement already satisfied: certifi>=2023.7.22 in /usr/local/lib/python3.10/dist-packages (from kaggle->wildlife-datasets==1.0.5) (2025.1.31)\r\n",
      "Requirement already satisfied: python-slugify in /usr/local/lib/python3.10/dist-packages (from kaggle->wildlife-datasets==1.0.5) (8.0.4)\r\n",
      "Requirement already satisfied: urllib3 in /usr/local/lib/python3.10/dist-packages (from kaggle->wildlife-datasets==1.0.5) (2.3.0)\r\n",
      "Requirement already satisfied: bleach in /usr/local/lib/python3.10/dist-packages (from kaggle->wildlife-datasets==1.0.5) (6.2.0)\r\n",
      "Requirement already satisfied: aiohappyeyeballs>=2.3.0 in /usr/local/lib/python3.10/dist-packages (from aiohttp->datasets->wildlife-datasets==1.0.5) (2.4.6)\r\n",
      "Requirement already satisfied: aiosignal>=1.1.2 in /usr/local/lib/python3.10/dist-packages (from aiohttp->datasets->wildlife-datasets==1.0.5) (1.3.2)\r\n",
      "Requirement already satisfied: async-timeout<6.0,>=4.0 in /usr/local/lib/python3.10/dist-packages (from aiohttp->datasets->wildlife-datasets==1.0.5) (5.0.1)\r\n",
      "Requirement already satisfied: attrs>=17.3.0 in /usr/local/lib/python3.10/dist-packages (from aiohttp->datasets->wildlife-datasets==1.0.5) (25.1.0)\r\n",
      "Requirement already satisfied: frozenlist>=1.1.1 in /usr/local/lib/python3.10/dist-packages (from aiohttp->datasets->wildlife-datasets==1.0.5) (1.5.0)\r\n",
      "Requirement already satisfied: multidict<7.0,>=4.5 in /usr/local/lib/python3.10/dist-packages (from aiohttp->datasets->wildlife-datasets==1.0.5) (6.1.0)\r\n",
      "Requirement already satisfied: propcache>=0.2.0 in /usr/local/lib/python3.10/dist-packages (from aiohttp->datasets->wildlife-datasets==1.0.5) (0.2.1)\r\n",
      "Requirement already satisfied: yarl<2.0,>=1.17.0 in /usr/local/lib/python3.10/dist-packages (from aiohttp->datasets->wildlife-datasets==1.0.5) (1.18.3)\r\n",
      "Requirement already satisfied: typing-extensions>=3.7.4.3 in /usr/local/lib/python3.10/dist-packages (from huggingface-hub>=0.24.0->datasets->wildlife-datasets==1.0.5) (4.12.2)\r\n",
      "Requirement already satisfied: charset-normalizer<4,>=2 in /usr/local/lib/python3.10/dist-packages (from requests>=2.32.2->datasets->wildlife-datasets==1.0.5) (3.4.1)\r\n",
      "Requirement already satisfied: idna<4,>=2.5 in /usr/local/lib/python3.10/dist-packages (from requests>=2.32.2->datasets->wildlife-datasets==1.0.5) (3.10)\r\n",
      "Requirement already satisfied: soupsieve>1.2 in /usr/local/lib/python3.10/dist-packages (from beautifulsoup4->gdown->wildlife-datasets==1.0.5) (2.6)\r\n",
      "Requirement already satisfied: webencodings in /usr/local/lib/python3.10/dist-packages (from bleach->kaggle->wildlife-datasets==1.0.5) (0.5.1)\r\n",
      "Requirement already satisfied: intel-openmp>=2024 in /usr/local/lib/python3.10/dist-packages (from mkl->numpy>=1.19.4->wildlife-datasets==1.0.5) (2024.2.0)\r\n",
      "Requirement already satisfied: tbb==2022.* in /usr/local/lib/python3.10/dist-packages (from mkl->numpy>=1.19.4->wildlife-datasets==1.0.5) (2022.0.0)\r\n",
      "Requirement already satisfied: tcmlib==1.* in /usr/local/lib/python3.10/dist-packages (from tbb==2022.*->mkl->numpy>=1.19.4->wildlife-datasets==1.0.5) (1.2.0)\r\n",
      "Requirement already satisfied: intel-cmplr-lib-rt in /usr/local/lib/python3.10/dist-packages (from mkl_umath->numpy>=1.19.4->wildlife-datasets==1.0.5) (2024.2.0)\r\n",
      "Requirement already satisfied: text-unidecode>=1.3 in /usr/local/lib/python3.10/dist-packages (from python-slugify->kaggle->wildlife-datasets==1.0.5) (1.3)\r\n",
      "Requirement already satisfied: PySocks!=1.5.7,>=1.5.6 in /usr/local/lib/python3.10/dist-packages (from requests[socks]->gdown->wildlife-datasets==1.0.5) (1.7.1)\r\n",
      "Requirement already satisfied: intel-cmplr-lib-ur==2024.2.0 in /usr/local/lib/python3.10/dist-packages (from intel-openmp>=2024->mkl->numpy>=1.19.4->wildlife-datasets==1.0.5) (2024.2.0)\r\n",
      "Building wheels for collected packages: wildlife-datasets\r\n",
      "  Building wheel for wildlife-datasets (pyproject.toml) ... \u001b[?25l\u001b[?25hdone\r\n",
      "  Created wheel for wildlife-datasets: filename=wildlife_datasets-1.0.5-py3-none-any.whl size=88495 sha256=00ae45d75f73d3dc0b9e893f22cb5d96d2be16a0309e696a214c660a250d9c71\r\n",
      "  Stored in directory: /tmp/pip-ephem-wheel-cache-o55dcfbh/wheels/c5/e9/19/815dc8ac1a073b6769942e201b8776a681537b3da4bc2c60ab\r\n",
      "Successfully built wildlife-datasets\r\n",
      "Installing collected packages: wildlife-datasets\r\n",
      "Successfully installed wildlife-datasets-1.0.5\r\n",
      "Collecting git+https://github.com/WildlifeDatasets/wildlife-tools\r\n",
      "  Cloning https://github.com/WildlifeDatasets/wildlife-tools to /tmp/pip-req-build-gp21z12y\r\n",
      "  Running command git clone --filter=blob:none --quiet https://github.com/WildlifeDatasets/wildlife-tools /tmp/pip-req-build-gp21z12y\r\n",
      "  Resolved https://github.com/WildlifeDatasets/wildlife-tools to commit 71aa4656d16afe4caae6d84af642bab81dc2d06d\r\n",
      "  Installing build dependencies ... \u001b[?25l\u001b[?25hdone\r\n",
      "  Getting requirements to build wheel ... \u001b[?25l\u001b[?25hdone\r\n",
      "  Preparing metadata (pyproject.toml) ... \u001b[?25l\u001b[?25hdone\r\n",
      "Collecting gluefactory@ git+https://github.com/cvg/glue-factory.git@1f56839db2242929960d70f85bfac6c19ef2821c (from wildlife-tools==1.0.1)\r\n",
      "  Cloning https://github.com/cvg/glue-factory.git (to revision 1f56839db2242929960d70f85bfac6c19ef2821c) to /tmp/pip-install-qxax8ivb/gluefactory_8aceeb12472546cc8615021b880e373b\r\n",
      "  Running command git clone --filter=blob:none --quiet https://github.com/cvg/glue-factory.git /tmp/pip-install-qxax8ivb/gluefactory_8aceeb12472546cc8615021b880e373b\r\n",
      "  Running command git rev-parse -q --verify 'sha^1f56839db2242929960d70f85bfac6c19ef2821c'\r\n",
      "  Running command git fetch -q https://github.com/cvg/glue-factory.git 1f56839db2242929960d70f85bfac6c19ef2821c\r\n",
      "  Resolved https://github.com/cvg/glue-factory.git to commit 1f56839db2242929960d70f85bfac6c19ef2821c\r\n",
      "  Installing build dependencies ... \u001b[?25l\u001b[?25hdone\r\n",
      "  Getting requirements to build wheel ... \u001b[?25l\u001b[?25hdone\r\n",
      "  Preparing metadata (pyproject.toml) ... \u001b[?25l\u001b[?25hdone\r\n",
      "Requirement already satisfied: torch>=2.0.1 in /usr/local/lib/python3.10/dist-packages (from wildlife-tools==1.0.1) (2.5.1+cu121)\r\n",
      "Requirement already satisfied: timm>=0.9.2 in /usr/local/lib/python3.10/dist-packages (from wildlife-tools==1.0.1) (1.0.12)\r\n",
      "Requirement already satisfied: numpy>=1.19.4 in /usr/local/lib/python3.10/dist-packages (from wildlife-tools==1.0.1) (1.26.4)\r\n",
      "Requirement already satisfied: pandas>=1.1.4 in /usr/local/lib/python3.10/dist-packages (from wildlife-tools==1.0.1) (2.2.3)\r\n",
      "Requirement already satisfied: tqdm>=4.62.3 in /usr/local/lib/python3.10/dist-packages (from wildlife-tools==1.0.1) (4.67.1)\r\n",
      "Requirement already satisfied: opencv-python>=4.5.5.62 in /usr/local/lib/python3.10/dist-packages (from wildlife-tools==1.0.1) (4.10.0.84)\r\n",
      "Requirement already satisfied: Pillow>=7.1.2 in /usr/local/lib/python3.10/dist-packages (from wildlife-tools==1.0.1) (11.0.0)\r\n",
      "Requirement already satisfied: scikit-learn>=1.0.1 in /usr/local/lib/python3.10/dist-packages (from wildlife-tools==1.0.1) (1.2.2)\r\n",
      "Requirement already satisfied: pycocotools in /usr/local/lib/python3.10/dist-packages (from wildlife-tools==1.0.1) (2.0.8)\r\n",
      "Requirement already satisfied: tensorboard in /usr/local/lib/python3.10/dist-packages (from wildlife-tools==1.0.1) (2.17.1)\r\n",
      "Collecting pytorch_metric_learning (from wildlife-tools==1.0.1)\r\n",
      "  Downloading pytorch_metric_learning-2.8.1-py3-none-any.whl.metadata (18 kB)\r\n",
      "Requirement already satisfied: transformers>=4.30.2 in /usr/local/lib/python3.10/dist-packages (from wildlife-tools==1.0.1) (4.47.0)\r\n",
      "Requirement already satisfied: wildlife-datasets>=0.3.4 in /usr/local/lib/python3.10/dist-packages (from wildlife-tools==1.0.1) (1.0.5)\r\n",
      "Requirement already satisfied: kornia>=0.6.12 in /usr/local/lib/python3.10/dist-packages (from wildlife-tools==1.0.1) (0.8.0)\r\n",
      "Requirement already satisfied: kornia_rs>=0.1.0 in /usr/local/lib/python3.10/dist-packages (from kornia>=0.6.12->wildlife-tools==1.0.1) (0.1.8)\r\n",
      "Requirement already satisfied: packaging in /usr/local/lib/python3.10/dist-packages (from kornia>=0.6.12->wildlife-tools==1.0.1) (24.2)\r\n",
      "Requirement already satisfied: mkl_fft in /usr/local/lib/python3.10/dist-packages (from numpy>=1.19.4->wildlife-tools==1.0.1) (1.3.8)\r\n",
      "Requirement already satisfied: mkl_random in /usr/local/lib/python3.10/dist-packages (from numpy>=1.19.4->wildlife-tools==1.0.1) (1.2.4)\r\n",
      "Requirement already satisfied: mkl_umath in /usr/local/lib/python3.10/dist-packages (from numpy>=1.19.4->wildlife-tools==1.0.1) (0.1.1)\r\n",
      "Requirement already satisfied: mkl in /usr/local/lib/python3.10/dist-packages (from numpy>=1.19.4->wildlife-tools==1.0.1) (2025.0.1)\r\n",
      "Requirement already satisfied: tbb4py in /usr/local/lib/python3.10/dist-packages (from numpy>=1.19.4->wildlife-tools==1.0.1) (2022.0.0)\r\n",
      "Requirement already satisfied: mkl-service in /usr/local/lib/python3.10/dist-packages (from numpy>=1.19.4->wildlife-tools==1.0.1) (2.4.1)\r\n",
      "Requirement already satisfied: python-dateutil>=2.8.2 in /usr/local/lib/python3.10/dist-packages (from pandas>=1.1.4->wildlife-tools==1.0.1) (2.9.0.post0)\r\n",
      "Requirement already satisfied: pytz>=2020.1 in /usr/local/lib/python3.10/dist-packages (from pandas>=1.1.4->wildlife-tools==1.0.1) (2025.1)\r\n",
      "Requirement already satisfied: tzdata>=2022.7 in /usr/local/lib/python3.10/dist-packages (from pandas>=1.1.4->wildlife-tools==1.0.1) (2025.1)\r\n",
      "Requirement already satisfied: scipy>=1.3.2 in /usr/local/lib/python3.10/dist-packages (from scikit-learn>=1.0.1->wildlife-tools==1.0.1) (1.13.1)\r\n",
      "Requirement already satisfied: joblib>=1.1.1 in /usr/local/lib/python3.10/dist-packages (from scikit-learn>=1.0.1->wildlife-tools==1.0.1) (1.4.2)\r\n",
      "Requirement already satisfied: threadpoolctl>=2.0.0 in /usr/local/lib/python3.10/dist-packages (from scikit-learn>=1.0.1->wildlife-tools==1.0.1) (3.5.0)\r\n",
      "Requirement already satisfied: torchvision in /usr/local/lib/python3.10/dist-packages (from timm>=0.9.2->wildlife-tools==1.0.1) (0.20.1+cu121)\r\n",
      "Requirement already satisfied: pyyaml in /usr/local/lib/python3.10/dist-packages (from timm>=0.9.2->wildlife-tools==1.0.1) (6.0.2)\r\n",
      "Requirement already satisfied: huggingface_hub in /usr/local/lib/python3.10/dist-packages (from timm>=0.9.2->wildlife-tools==1.0.1) (0.29.0)\r\n",
      "Requirement already satisfied: safetensors in /usr/local/lib/python3.10/dist-packages (from timm>=0.9.2->wildlife-tools==1.0.1) (0.4.5)\r\n",
      "Requirement already satisfied: filelock in /usr/local/lib/python3.10/dist-packages (from torch>=2.0.1->wildlife-tools==1.0.1) (3.17.0)\r\n",
      "Requirement already satisfied: typing-extensions>=4.8.0 in /usr/local/lib/python3.10/dist-packages (from torch>=2.0.1->wildlife-tools==1.0.1) (4.12.2)\r\n",
      "Requirement already satisfied: networkx in /usr/local/lib/python3.10/dist-packages (from torch>=2.0.1->wildlife-tools==1.0.1) (3.4.2)\r\n",
      "Requirement already satisfied: jinja2 in /usr/local/lib/python3.10/dist-packages (from torch>=2.0.1->wildlife-tools==1.0.1) (3.1.4)\r\n",
      "Requirement already satisfied: fsspec in /usr/local/lib/python3.10/dist-packages (from torch>=2.0.1->wildlife-tools==1.0.1) (2024.12.0)\r\n",
      "Requirement already satisfied: sympy==1.13.1 in /usr/local/lib/python3.10/dist-packages (from torch>=2.0.1->wildlife-tools==1.0.1) (1.13.1)\r\n",
      "Requirement already satisfied: mpmath<1.4,>=1.1.0 in /usr/local/lib/python3.10/dist-packages (from sympy==1.13.1->torch>=2.0.1->wildlife-tools==1.0.1) (1.3.0)\r\n",
      "Requirement already satisfied: regex!=2019.12.17 in /usr/local/lib/python3.10/dist-packages (from transformers>=4.30.2->wildlife-tools==1.0.1) (2024.11.6)\r\n",
      "Requirement already satisfied: requests in /usr/local/lib/python3.10/dist-packages (from transformers>=4.30.2->wildlife-tools==1.0.1) (2.32.3)\r\n",
      "Requirement already satisfied: tokenizers<0.22,>=0.21 in /usr/local/lib/python3.10/dist-packages (from transformers>=4.30.2->wildlife-tools==1.0.1) (0.21.0)\r\n",
      "Requirement already satisfied: matplotlib>=3.5.1 in /usr/local/lib/python3.10/dist-packages (from wildlife-datasets>=0.3.4->wildlife-tools==1.0.1) (3.7.5)\r\n",
      "Requirement already satisfied: datasets in /usr/local/lib/python3.10/dist-packages (from wildlife-datasets>=0.3.4->wildlife-tools==1.0.1) (3.3.1)\r\n",
      "Requirement already satisfied: gdown in /usr/local/lib/python3.10/dist-packages (from wildlife-datasets>=0.3.4->wildlife-tools==1.0.1) (5.2.0)\r\n",
      "Requirement already satisfied: kaggle in /usr/local/lib/python3.10/dist-packages (from wildlife-datasets>=0.3.4->wildlife-tools==1.0.1) (1.6.17)\r\n",
      "Collecting lightglue@ git+https://github.com/cvg/LightGlue.git (from gluefactory@ git+https://github.com/cvg/glue-factory.git@1f56839db2242929960d70f85bfac6c19ef2821c->wildlife-tools==1.0.1)\r\n",
      "  Cloning https://github.com/cvg/LightGlue.git to /tmp/pip-install-qxax8ivb/lightglue_646f0a2bd0d74b32a926ee451a846835\r\n",
      "  Running command git clone --filter=blob:none --quiet https://github.com/cvg/LightGlue.git /tmp/pip-install-qxax8ivb/lightglue_646f0a2bd0d74b32a926ee451a846835\r\n",
      "  Resolved https://github.com/cvg/LightGlue.git to commit edb2b838efb2ecfe3f88097c5fad9887d95aedad\r\n",
      "  Installing build dependencies ... \u001b[?25l\u001b[?25hdone\r\n",
      "  Getting requirements to build wheel ... \u001b[?25l\u001b[?25hdone\r\n",
      "  Preparing metadata (pyproject.toml) ... \u001b[?25l\u001b[?25hdone\r\n",
      "Requirement already satisfied: h5py in /usr/local/lib/python3.10/dist-packages (from gluefactory@ git+https://github.com/cvg/glue-factory.git@1f56839db2242929960d70f85bfac6c19ef2821c->wildlife-tools==1.0.1) (3.12.1)\r\n",
      "Requirement already satisfied: omegaconf in /usr/local/lib/python3.10/dist-packages (from gluefactory@ git+https://github.com/cvg/glue-factory.git@1f56839db2242929960d70f85bfac6c19ef2821c->wildlife-tools==1.0.1) (2.3.0)\r\n",
      "Requirement already satisfied: albumentations in /usr/local/lib/python3.10/dist-packages (from gluefactory@ git+https://github.com/cvg/glue-factory.git@1f56839db2242929960d70f85bfac6c19ef2821c->wildlife-tools==1.0.1) (1.4.20)\r\n",
      "Requirement already satisfied: seaborn in /usr/local/lib/python3.10/dist-packages (from gluefactory@ git+https://github.com/cvg/glue-factory.git@1f56839db2242929960d70f85bfac6c19ef2821c->wildlife-tools==1.0.1) (0.12.2)\r\n",
      "Requirement already satisfied: absl-py>=0.4 in /usr/local/lib/python3.10/dist-packages (from tensorboard->wildlife-tools==1.0.1) (1.4.0)\r\n",
      "Requirement already satisfied: grpcio>=1.48.2 in /usr/local/lib/python3.10/dist-packages (from tensorboard->wildlife-tools==1.0.1) (1.68.1)\r\n",
      "Requirement already satisfied: markdown>=2.6.8 in /usr/local/lib/python3.10/dist-packages (from tensorboard->wildlife-tools==1.0.1) (3.7)\r\n",
      "Requirement already satisfied: protobuf!=4.24.0,>=3.19.6 in /usr/local/lib/python3.10/dist-packages (from tensorboard->wildlife-tools==1.0.1) (3.20.3)\r\n",
      "Requirement already satisfied: setuptools>=41.0.0 in /usr/local/lib/python3.10/dist-packages (from tensorboard->wildlife-tools==1.0.1) (75.1.0)\r\n",
      "Requirement already satisfied: six>1.9 in /usr/local/lib/python3.10/dist-packages (from tensorboard->wildlife-tools==1.0.1) (1.17.0)\r\n",
      "Requirement already satisfied: tensorboard-data-server<0.8.0,>=0.7.0 in /usr/local/lib/python3.10/dist-packages (from tensorboard->wildlife-tools==1.0.1) (0.7.2)\r\n",
      "Requirement already satisfied: werkzeug>=1.0.1 in /usr/local/lib/python3.10/dist-packages (from tensorboard->wildlife-tools==1.0.1) (3.1.3)\r\n",
      "Requirement already satisfied: contourpy>=1.0.1 in /usr/local/lib/python3.10/dist-packages (from matplotlib>=3.5.1->wildlife-datasets>=0.3.4->wildlife-tools==1.0.1) (1.3.1)\r\n",
      "Requirement already satisfied: cycler>=0.10 in /usr/local/lib/python3.10/dist-packages (from matplotlib>=3.5.1->wildlife-datasets>=0.3.4->wildlife-tools==1.0.1) (0.12.1)\r\n",
      "Requirement already satisfied: fonttools>=4.22.0 in /usr/local/lib/python3.10/dist-packages (from matplotlib>=3.5.1->wildlife-datasets>=0.3.4->wildlife-tools==1.0.1) (4.55.3)\r\n",
      "Requirement already satisfied: kiwisolver>=1.0.1 in /usr/local/lib/python3.10/dist-packages (from matplotlib>=3.5.1->wildlife-datasets>=0.3.4->wildlife-tools==1.0.1) (1.4.7)\r\n",
      "Requirement already satisfied: pyparsing>=2.3.1 in /usr/local/lib/python3.10/dist-packages (from matplotlib>=3.5.1->wildlife-datasets>=0.3.4->wildlife-tools==1.0.1) (3.2.0)\r\n",
      "Requirement already satisfied: MarkupSafe>=2.1.1 in /usr/local/lib/python3.10/dist-packages (from werkzeug>=1.0.1->tensorboard->wildlife-tools==1.0.1) (3.0.2)\r\n",
      "Requirement already satisfied: pydantic>=2.7.0 in /usr/local/lib/python3.10/dist-packages (from albumentations->gluefactory@ git+https://github.com/cvg/glue-factory.git@1f56839db2242929960d70f85bfac6c19ef2821c->wildlife-tools==1.0.1) (2.11.0a2)\r\n",
      "Requirement already satisfied: albucore==0.0.19 in /usr/local/lib/python3.10/dist-packages (from albumentations->gluefactory@ git+https://github.com/cvg/glue-factory.git@1f56839db2242929960d70f85bfac6c19ef2821c->wildlife-tools==1.0.1) (0.0.19)\r\n",
      "Requirement already satisfied: eval-type-backport in /usr/local/lib/python3.10/dist-packages (from albumentations->gluefactory@ git+https://github.com/cvg/glue-factory.git@1f56839db2242929960d70f85bfac6c19ef2821c->wildlife-tools==1.0.1) (0.2.0)\r\n",
      "Requirement already satisfied: opencv-python-headless>=4.9.0.80 in /usr/local/lib/python3.10/dist-packages (from albumentations->gluefactory@ git+https://github.com/cvg/glue-factory.git@1f56839db2242929960d70f85bfac6c19ef2821c->wildlife-tools==1.0.1) (4.10.0.84)\r\n",
      "Requirement already satisfied: stringzilla>=3.10.4 in /usr/local/lib/python3.10/dist-packages (from albucore==0.0.19->albumentations->gluefactory@ git+https://github.com/cvg/glue-factory.git@1f56839db2242929960d70f85bfac6c19ef2821c->wildlife-tools==1.0.1) (3.11.1)\r\n",
      "Requirement already satisfied: pyarrow>=15.0.0 in /usr/local/lib/python3.10/dist-packages (from datasets->wildlife-datasets>=0.3.4->wildlife-tools==1.0.1) (19.0.1)\r\n",
      "Requirement already satisfied: dill<0.3.9,>=0.3.0 in /usr/local/lib/python3.10/dist-packages (from datasets->wildlife-datasets>=0.3.4->wildlife-tools==1.0.1) (0.3.8)\r\n",
      "Requirement already satisfied: xxhash in /usr/local/lib/python3.10/dist-packages (from datasets->wildlife-datasets>=0.3.4->wildlife-tools==1.0.1) (3.5.0)\r\n",
      "Requirement already satisfied: multiprocess<0.70.17 in /usr/local/lib/python3.10/dist-packages (from datasets->wildlife-datasets>=0.3.4->wildlife-tools==1.0.1) (0.70.16)\r\n",
      "Requirement already satisfied: aiohttp in /usr/local/lib/python3.10/dist-packages (from datasets->wildlife-datasets>=0.3.4->wildlife-tools==1.0.1) (3.11.12)\r\n",
      "Requirement already satisfied: charset-normalizer<4,>=2 in /usr/local/lib/python3.10/dist-packages (from requests->transformers>=4.30.2->wildlife-tools==1.0.1) (3.4.1)\r\n",
      "Requirement already satisfied: idna<4,>=2.5 in /usr/local/lib/python3.10/dist-packages (from requests->transformers>=4.30.2->wildlife-tools==1.0.1) (3.10)\r\n",
      "Requirement already satisfied: urllib3<3,>=1.21.1 in /usr/local/lib/python3.10/dist-packages (from requests->transformers>=4.30.2->wildlife-tools==1.0.1) (2.3.0)\r\n",
      "Requirement already satisfied: certifi>=2017.4.17 in /usr/local/lib/python3.10/dist-packages (from requests->transformers>=4.30.2->wildlife-tools==1.0.1) (2025.1.31)\r\n",
      "Requirement already satisfied: beautifulsoup4 in /usr/local/lib/python3.10/dist-packages (from gdown->wildlife-datasets>=0.3.4->wildlife-tools==1.0.1) (4.12.3)\r\n",
      "Requirement already satisfied: python-slugify in /usr/local/lib/python3.10/dist-packages (from kaggle->wildlife-datasets>=0.3.4->wildlife-tools==1.0.1) (8.0.4)\r\n",
      "Requirement already satisfied: bleach in /usr/local/lib/python3.10/dist-packages (from kaggle->wildlife-datasets>=0.3.4->wildlife-tools==1.0.1) (6.2.0)\r\n",
      "Requirement already satisfied: intel-openmp>=2024 in /usr/local/lib/python3.10/dist-packages (from mkl->numpy>=1.19.4->wildlife-tools==1.0.1) (2024.2.0)\r\n",
      "Requirement already satisfied: tbb==2022.* in /usr/local/lib/python3.10/dist-packages (from mkl->numpy>=1.19.4->wildlife-tools==1.0.1) (2022.0.0)\r\n",
      "Requirement already satisfied: tcmlib==1.* in /usr/local/lib/python3.10/dist-packages (from tbb==2022.*->mkl->numpy>=1.19.4->wildlife-tools==1.0.1) (1.2.0)\r\n",
      "Requirement already satisfied: intel-cmplr-lib-rt in /usr/local/lib/python3.10/dist-packages (from mkl_umath->numpy>=1.19.4->wildlife-tools==1.0.1) (2024.2.0)\r\n",
      "Requirement already satisfied: antlr4-python3-runtime==4.9.* in /usr/local/lib/python3.10/dist-packages (from omegaconf->gluefactory@ git+https://github.com/cvg/glue-factory.git@1f56839db2242929960d70f85bfac6c19ef2821c->wildlife-tools==1.0.1) (4.9.3)\r\n",
      "Requirement already satisfied: aiohappyeyeballs>=2.3.0 in /usr/local/lib/python3.10/dist-packages (from aiohttp->datasets->wildlife-datasets>=0.3.4->wildlife-tools==1.0.1) (2.4.6)\r\n",
      "Requirement already satisfied: aiosignal>=1.1.2 in /usr/local/lib/python3.10/dist-packages (from aiohttp->datasets->wildlife-datasets>=0.3.4->wildlife-tools==1.0.1) (1.3.2)\r\n",
      "Requirement already satisfied: async-timeout<6.0,>=4.0 in /usr/local/lib/python3.10/dist-packages (from aiohttp->datasets->wildlife-datasets>=0.3.4->wildlife-tools==1.0.1) (5.0.1)\r\n",
      "Requirement already satisfied: attrs>=17.3.0 in /usr/local/lib/python3.10/dist-packages (from aiohttp->datasets->wildlife-datasets>=0.3.4->wildlife-tools==1.0.1) (25.1.0)\r\n",
      "Requirement already satisfied: frozenlist>=1.1.1 in /usr/local/lib/python3.10/dist-packages (from aiohttp->datasets->wildlife-datasets>=0.3.4->wildlife-tools==1.0.1) (1.5.0)\r\n",
      "Requirement already satisfied: multidict<7.0,>=4.5 in /usr/local/lib/python3.10/dist-packages (from aiohttp->datasets->wildlife-datasets>=0.3.4->wildlife-tools==1.0.1) (6.1.0)\r\n",
      "Requirement already satisfied: propcache>=0.2.0 in /usr/local/lib/python3.10/dist-packages (from aiohttp->datasets->wildlife-datasets>=0.3.4->wildlife-tools==1.0.1) (0.2.1)\r\n",
      "Requirement already satisfied: yarl<2.0,>=1.17.0 in /usr/local/lib/python3.10/dist-packages (from aiohttp->datasets->wildlife-datasets>=0.3.4->wildlife-tools==1.0.1) (1.18.3)\r\n",
      "Requirement already satisfied: intel-cmplr-lib-ur==2024.2.0 in /usr/local/lib/python3.10/dist-packages (from intel-openmp>=2024->mkl->numpy>=1.19.4->wildlife-tools==1.0.1) (2024.2.0)\r\n",
      "Requirement already satisfied: annotated-types>=0.6.0 in /usr/local/lib/python3.10/dist-packages (from pydantic>=2.7.0->albumentations->gluefactory@ git+https://github.com/cvg/glue-factory.git@1f56839db2242929960d70f85bfac6c19ef2821c->wildlife-tools==1.0.1) (0.7.0)\r\n",
      "Requirement already satisfied: pydantic-core==2.29.0 in /usr/local/lib/python3.10/dist-packages (from pydantic>=2.7.0->albumentations->gluefactory@ git+https://github.com/cvg/glue-factory.git@1f56839db2242929960d70f85bfac6c19ef2821c->wildlife-tools==1.0.1) (2.29.0)\r\n",
      "Requirement already satisfied: soupsieve>1.2 in /usr/local/lib/python3.10/dist-packages (from beautifulsoup4->gdown->wildlife-datasets>=0.3.4->wildlife-tools==1.0.1) (2.6)\r\n",
      "Requirement already satisfied: webencodings in /usr/local/lib/python3.10/dist-packages (from bleach->kaggle->wildlife-datasets>=0.3.4->wildlife-tools==1.0.1) (0.5.1)\r\n",
      "Requirement already satisfied: text-unidecode>=1.3 in /usr/local/lib/python3.10/dist-packages (from python-slugify->kaggle->wildlife-datasets>=0.3.4->wildlife-tools==1.0.1) (1.3)\r\n",
      "Requirement already satisfied: PySocks!=1.5.7,>=1.5.6 in /usr/local/lib/python3.10/dist-packages (from requests[socks]->gdown->wildlife-datasets>=0.3.4->wildlife-tools==1.0.1) (1.7.1)\r\n",
      "Downloading pytorch_metric_learning-2.8.1-py3-none-any.whl (125 kB)\r\n",
      "\u001b[2K   \u001b[90m━━━━━━━━━━━━━━━━━━━━━━━━━━━━━━━━━━━━━━━━\u001b[0m \u001b[32m125.9/125.9 kB\u001b[0m \u001b[31m3.6 MB/s\u001b[0m eta \u001b[36m0:00:00\u001b[0m\r\n",
      "\u001b[?25hBuilding wheels for collected packages: wildlife-tools, gluefactory, lightglue\r\n",
      "  Building wheel for wildlife-tools (pyproject.toml) ... \u001b[?25l\u001b[?25hdone\r\n",
      "  Created wheel for wildlife-tools: filename=wildlife_tools-1.0.1-py3-none-any.whl size=33837 sha256=29ef0259d0bdcd538bfb8f73af7174c8fc3629cb1662b3893227c068a066eed5\r\n",
      "  Stored in directory: /tmp/pip-ephem-wheel-cache-xhtzbbp0/wheels/74/75/ab/1c26a4ecc35c1bff78b3fe64f50258d593de78f1022f73067d\r\n",
      "  Building wheel for gluefactory (pyproject.toml) ... \u001b[?25l\u001b[?25hdone\r\n",
      "  Created wheel for gluefactory: filename=gluefactory-0.0-py3-none-any.whl size=213005 sha256=988efc4891a6bfd44250e4af172b63c56dafd7324add3f1ccfbc7673f2912836\r\n",
      "  Stored in directory: /root/.cache/pip/wheels/81/ae/90/9c06c232fc717f2f9188a94a5ebf1f6e6bb7a76929467f0196\r\n",
      "  Building wheel for lightglue (pyproject.toml) ... \u001b[?25l\u001b[?25hdone\r\n",
      "  Created wheel for lightglue: filename=lightglue-0.0-py3-none-any.whl size=39542 sha256=7cfd5c604fa8e4c02e5f3de8d534bc075104ab809301779418304e3815564b9e\r\n",
      "  Stored in directory: /tmp/pip-ephem-wheel-cache-xhtzbbp0/wheels/07/dc/a1/22bc17d3d78e58fbd145e264d6736aab70959fbf872c80ddb9\r\n",
      "Successfully built wildlife-tools gluefactory lightglue\r\n",
      "Installing collected packages: lightglue, pytorch_metric_learning, gluefactory, wildlife-tools\r\n",
      "Successfully installed gluefactory-0.0 lightglue-0.0 pytorch_metric_learning-2.8.1 wildlife-tools-1.0.1\r\n"
     ]
    }
   ],
   "source": [
    "!pip install git+https://github.com/WildlifeDatasets/wildlife-datasets@develop\n",
    "!pip install git+https://github.com/WildlifeDatasets/wildlife-tools"
   ]
  },
  {
   "cell_type": "markdown",
   "id": "f51089e1",
   "metadata": {
    "papermill": {
     "duration": 0.005074,
     "end_time": "2025-03-31T09:41:36.398017",
     "exception": false,
     "start_time": "2025-03-31T09:41:36.392943",
     "status": "completed"
    },
    "tags": []
   },
   "source": [
    "## Dependencies import\n",
    "We load all the required packages and then define the function `create_sample_submission`, which converts provided predictions and a submission file for the competition."
   ]
  },
  {
   "cell_type": "code",
   "execution_count": 2,
   "id": "2fe9b8a5",
   "metadata": {
    "execution": {
     "iopub.execute_input": "2025-03-31T09:41:36.409247Z",
     "iopub.status.busy": "2025-03-31T09:41:36.408972Z",
     "iopub.status.idle": "2025-03-31T09:42:03.561906Z",
     "shell.execute_reply": "2025-03-31T09:42:03.561015Z"
    },
    "papermill": {
     "duration": 27.160312,
     "end_time": "2025-03-31T09:42:03.563492",
     "exception": false,
     "start_time": "2025-03-31T09:41:36.403180",
     "status": "completed"
    },
    "tags": []
   },
   "outputs": [],
   "source": [
    "import os\n",
    "import numpy as np\n",
    "import pandas as pd\n",
    "import timm\n",
    "import torchvision.transforms as T\n",
    "from wildlife_datasets.datasets import AnimalCLEF2025\n",
    "from wildlife_tools.features import DeepFeatures\n",
    "from wildlife_tools.similarity import CosineSimilarity\n",
    "from wildlife_tools.similarity.wildfusion import SimilarityPipeline, WildFusion\n",
    "from wildlife_tools.similarity.pairwise.lightglue import MatchLightGlue\n",
    "from wildlife_tools.features.local import AlikedExtractor, SuperPointExtractor\n",
    "from wildlife_tools.similarity.calibration import IsotonicCalibration\n",
    "\n",
    "def create_sample_submission(dataset_query, predictions, file_name='sample_submission.csv'):\n",
    "    df = pd.DataFrame({\n",
    "        'image_id': dataset_query.metadata['image_id'],\n",
    "        'identity': predictions\n",
    "    })\n",
    "    df.to_csv(file_name, index=False)"
   ]
  },
  {
   "cell_type": "markdown",
   "id": "22273a3c",
   "metadata": {
    "papermill": {
     "duration": 0.005054,
     "end_time": "2025-03-31T09:42:03.574205",
     "exception": false,
     "start_time": "2025-03-31T09:42:03.569151",
     "status": "completed"
    },
    "tags": []
   },
   "source": [
    "## Inference WildFusion\n",
    "\n",
    "Instead of training a classifier, we use out of the shelf pretrained models - [MegaDescriptor](https://huggingface.co/BVRA/MegaDescriptor-L-384) and [ALIKED](https://arxiv.org/pdf/2304.03608) - Keypoint and Descriptor Extraction Network. Both MegaDescriptor and ALIKED are used to extract features from all images.\n",
    "\n",
    "**Note:** _It is highly recommended to use the GPU acceleration._"
   ]
  },
  {
   "cell_type": "markdown",
   "id": "318b4695",
   "metadata": {
    "papermill": {
     "duration": 0.005048,
     "end_time": "2025-03-31T09:42:03.584403",
     "exception": false,
     "start_time": "2025-03-31T09:42:03.579355",
     "status": "completed"
    },
    "tags": []
   },
   "source": [
    "We need to specify the `root`, where the data are stored and then two image transformations. \n",
    "1. The first transform only resizes the images and is used for visualization.\n",
    "2. The second transform also converts it to torch tensor and is used for operations on neural networks."
   ]
  },
  {
   "cell_type": "code",
   "execution_count": 3,
   "id": "d3a2e65b",
   "metadata": {
    "execution": {
     "iopub.execute_input": "2025-03-31T09:42:03.595608Z",
     "iopub.status.busy": "2025-03-31T09:42:03.595030Z",
     "iopub.status.idle": "2025-03-31T09:42:03.600038Z",
     "shell.execute_reply": "2025-03-31T09:42:03.599229Z"
    },
    "papermill": {
     "duration": 0.011738,
     "end_time": "2025-03-31T09:42:03.601182",
     "exception": false,
     "start_time": "2025-03-31T09:42:03.589444",
     "status": "completed"
    },
    "tags": []
   },
   "outputs": [],
   "source": [
    "root = '/kaggle/input/animal-clef-2025'\n",
    "transform_display = T.Compose([\n",
    "    T.Resize([224, 224]),\n",
    "])\n",
    "transform = T.Compose([\n",
    "    *transform_display.transforms,\n",
    "    T.ToTensor(),\n",
    "    T.Normalize(mean=(0.485, 0.456, 0.406), std=(0.229, 0.224, 0.225))\n",
    "])\n",
    "\n",
    "transforms_aliked = T.Compose([\n",
    "    T.Resize([512, 512]),\n",
    "    T.ToTensor()\n",
    "])"
   ]
  },
  {
   "cell_type": "code",
   "execution_count": 4,
   "id": "bd76d6d1",
   "metadata": {
    "execution": {
     "iopub.execute_input": "2025-03-31T09:42:03.612202Z",
     "iopub.status.busy": "2025-03-31T09:42:03.611976Z",
     "iopub.status.idle": "2025-03-31T09:42:37.044046Z",
     "shell.execute_reply": "2025-03-31T09:42:37.043202Z"
    },
    "papermill": {
     "duration": 33.439291,
     "end_time": "2025-03-31T09:42:37.045722",
     "exception": false,
     "start_time": "2025-03-31T09:42:03.606431",
     "status": "completed"
    },
    "tags": []
   },
   "outputs": [],
   "source": [
    "# Loading the dataset\n",
    "dataset = AnimalCLEF2025(root, load_label=True)\n",
    "dataset_database = dataset.get_subset(dataset.metadata['split'] == 'database')\n",
    "dataset_query = dataset.get_subset(dataset.metadata['split'] == 'query')\n",
    "dataset_calibration = AnimalCLEF2025(root, df=dataset_database.metadata[:100], load_label=True) \n",
    "\n",
    "n_query = len(dataset_query)"
   ]
  },
  {
   "cell_type": "code",
   "execution_count": 5,
   "id": "899b1547",
   "metadata": {
    "execution": {
     "iopub.execute_input": "2025-03-31T09:42:37.057386Z",
     "iopub.status.busy": "2025-03-31T09:42:37.057140Z",
     "iopub.status.idle": "2025-03-31T09:42:53.840098Z",
     "shell.execute_reply": "2025-03-31T09:42:53.839346Z"
    },
    "papermill": {
     "duration": 16.790313,
     "end_time": "2025-03-31T09:42:53.841711",
     "exception": false,
     "start_time": "2025-03-31T09:42:37.051398",
     "status": "completed"
    },
    "tags": []
   },
   "outputs": [
    {
     "data": {
      "application/vnd.jupyter.widget-view+json": {
       "model_id": "3c52417b8048435d91ff36eb53b7bef8",
       "version_major": 2,
       "version_minor": 0
      },
      "text/plain": [
       "config.json:   0%|          | 0.00/611 [00:00<?, ?B/s]"
      ]
     },
     "metadata": {},
     "output_type": "display_data"
    },
    {
     "name": "stderr",
     "output_type": "stream",
     "text": [
      "<ipython-input-5-68bf30cdf38b>:11: FutureWarning: You are using `torch.load` with `weights_only=False` (the current default value), which uses the default pickle module implicitly. It is possible to construct malicious pickle data which will execute arbitrary code during unpickling (See https://github.com/pytorch/pytorch/blob/main/SECURITY.md#untrusted-models for more details). In a future release, the default value for `weights_only` will be flipped to `True`. This limits the functions that could be executed during unpickling. Arbitrary objects will no longer be allowed to be loaded via this mode unless they are explicitly allowlisted by the user via `torch.serialization.add_safe_globals`. We recommend you start setting `weights_only=True` for any use case where you don't have full control of the loaded file. Please open an issue on GitHub for any issues related to this experimental feature.\n",
      "  state_dict = torch.load(checkpoint_path, map_location=device)\n"
     ]
    }
   ],
   "source": [
    "import timm\n",
    "import torch\n",
    "\n",
    "# Model and device setup\n",
    "name = 'hf-hub:BVRA/MegaDescriptor-L-224'\n",
    "device = 'cuda'\n",
    "model = timm.create_model(name, num_classes=0, pretrained=False)\n",
    "\n",
    "# Load the trained weights\n",
    "checkpoint_path = \"/kaggle/input/megadescriptor224-l-fine_animalclef/pytorch/default/1/model_trained/checkpoint.pth\"\n",
    "state_dict = torch.load(checkpoint_path, map_location=device)\n",
    "\n",
    "# If the checkpoint contains additional keys, extract only the model state_dict\n",
    "if \"model\" in state_dict:\n",
    "    state_dict = state_dict[\"model\"]\n",
    "\n",
    "# Load weights into the model\n",
    "model.load_state_dict(state_dict)\n",
    "model.to(device)\n",
    "model.eval()\n",
    "\n",
    "# Initialize feature extractor\n",
    "extractor = DeepFeatures(model, device=device, batch_size=32, num_workers=0)"
   ]
  },
  {
   "cell_type": "code",
   "execution_count": 6,
   "id": "c24ab0b6",
   "metadata": {
    "_kg_hide-input": false,
    "_kg_hide-output": true,
    "execution": {
     "iopub.execute_input": "2025-03-31T09:42:53.854269Z",
     "iopub.status.busy": "2025-03-31T09:42:53.853939Z",
     "iopub.status.idle": "2025-03-31T09:42:57.523939Z",
     "shell.execute_reply": "2025-03-31T09:42:57.523008Z"
    },
    "papermill": {
     "duration": 3.677726,
     "end_time": "2025-03-31T09:42:57.525481",
     "exception": false,
     "start_time": "2025-03-31T09:42:53.847755",
     "status": "completed"
    },
    "tags": []
   },
   "outputs": [
    {
     "name": "stderr",
     "output_type": "stream",
     "text": [
      "/usr/local/lib/python3.10/dist-packages/lightglue/lightglue.py:24: FutureWarning: `torch.cuda.amp.custom_fwd(args...)` is deprecated. Please use `torch.amp.custom_fwd(args..., device_type='cuda')` instead.\n",
      "  @torch.cuda.amp.custom_fwd(cast_inputs=torch.float32)\n",
      "Downloading: \"https://github.com/cvg/LightGlue/releases/download/v0.1_arxiv/aliked_lightglue.pth\" to /root/.cache/torch/hub/checkpoints/aliked_lightglue_v0-1_arxiv.pth\n",
      "100%|██████████| 45.4M/45.4M [00:00<00:00, 123MB/s]\n",
      "Downloading: \"https://github.com/Shiaoming/ALIKED/raw/main/models/aliked-n16.pth\" to /root/.cache/torch/hub/checkpoints/aliked-n16.pth\n",
      "100%|██████████| 2.61M/2.61M [00:00<00:00, 72.3MB/s]\n",
      "Downloading: \"https://github.com/cvg/LightGlue/releases/download/v0.1_arxiv/superpoint_lightglue.pth\" to /root/.cache/torch/hub/checkpoints/superpoint_lightglue_v0-1_arxiv.pth\n",
      "100%|██████████| 45.3M/45.3M [00:00<00:00, 306MB/s]\n",
      "Downloading: \"https://github.com/magicleap/SuperGluePretrainedNetwork/raw/master/models/weights/superpoint_v1.pth\" to /root/.cache/torch/hub/checkpoints/superpoint_v1.pth\n",
      "100%|██████████| 4.96M/4.96M [00:00<00:00, 102MB/s]\n"
     ]
    }
   ],
   "source": [
    "# Loading the model\n",
    "\n",
    "matcher_aliked = SimilarityPipeline(\n",
    "    matcher = MatchLightGlue(features='aliked', device=device, batch_size=16),\n",
    "    extractor = AlikedExtractor(),\n",
    "    transform = transforms_aliked,\n",
    "    calibration = IsotonicCalibration()\n",
    ")\n",
    "\n",
    "matcher_superglue = SimilarityPipeline(\n",
    "    matcher = MatchLightGlue(features='superpoint', device=device, batch_size=16),\n",
    "    extractor = SuperPointExtractor(),\n",
    "    transform = transforms_aliked,\n",
    "    calibration = IsotonicCalibration()\n",
    ")\n",
    "\n",
    "matcher_mega = SimilarityPipeline(\n",
    "    matcher = CosineSimilarity(),\n",
    "    extractor = DeepFeatures(model=model, device=device, batch_size=16),\n",
    "    transform = transform,\n",
    "    calibration = IsotonicCalibration()\n",
    ")"
   ]
  },
  {
   "cell_type": "code",
   "execution_count": 7,
   "id": "eec03419",
   "metadata": {
    "execution": {
     "iopub.execute_input": "2025-03-31T09:42:57.541857Z",
     "iopub.status.busy": "2025-03-31T09:42:57.541591Z",
     "iopub.status.idle": "2025-03-31T09:44:51.703547Z",
     "shell.execute_reply": "2025-03-31T09:44:51.702382Z"
    },
    "papermill": {
     "duration": 114.171064,
     "end_time": "2025-03-31T09:44:51.705259",
     "exception": false,
     "start_time": "2025-03-31T09:42:57.534195",
     "status": "completed"
    },
    "tags": []
   },
   "outputs": [
    {
     "name": "stderr",
     "output_type": "stream",
     "text": [
      "100%|█████████████████████████████████████████████████████████████| 100/100 [00:04<00:00, 20.57it/s]\n",
      "100%|█████████████████████████████████████████████████████████████| 100/100 [00:02<00:00, 36.08it/s]\n",
      "100%|█████████████████████████████████████████████████████████████| 625/625 [00:44<00:00, 14.01it/s]\n",
      "100%|█████████████████████████████████████████████████████████████████| 7/7 [00:02<00:00,  3.10it/s]\n",
      "100%|█████████████████████████████████████████████████████████████████| 7/7 [00:02<00:00,  2.97it/s]\n",
      "100%|█████████████████████████████████████████████████████████████| 100/100 [00:02<00:00, 34.13it/s]\n",
      "100%|█████████████████████████████████████████████████████████████| 100/100 [00:02<00:00, 35.65it/s]\n",
      "100%|█████████████████████████████████████████████████████████████| 625/625 [00:43<00:00, 14.43it/s]\n",
      "100%|█████████████████████████████████████████████████████████████████| 7/7 [00:02<00:00,  2.60it/s]\n",
      "100%|█████████████████████████████████████████████████████████████████| 7/7 [00:02<00:00,  2.80it/s]\n"
     ]
    }
   ],
   "source": [
    "# Calibrating the WildFusion\n",
    "wildfusion = WildFusion(calibrated_pipelines = [matcher_aliked, matcher_mega, matcher_superglue], priority_pipeline = matcher_mega)\n",
    "wildfusion.fit_calibration(dataset_calibration, dataset_calibration)"
   ]
  },
  {
   "cell_type": "code",
   "execution_count": 8,
   "id": "60a63df9",
   "metadata": {
    "execution": {
     "iopub.execute_input": "2025-03-31T09:44:51.731691Z",
     "iopub.status.busy": "2025-03-31T09:44:51.731396Z",
     "iopub.status.idle": "2025-03-31T10:10:49.134551Z",
     "shell.execute_reply": "2025-03-31T10:10:49.133499Z"
    },
    "papermill": {
     "duration": 1557.417559,
     "end_time": "2025-03-31T10:10:49.136372",
     "exception": false,
     "start_time": "2025-03-31T09:44:51.718813",
     "status": "completed"
    },
    "tags": []
   },
   "outputs": [
    {
     "name": "stderr",
     "output_type": "stream",
     "text": [
      "100%|█████████████████████████████████████████████████████████████| 134/134 [01:14<00:00,  1.79it/s]\n",
      "100%|█████████████████████████████████████████████████████████████| 818/818 [04:16<00:00,  3.19it/s]\n",
      "100%|███████████████████████████████████████████████████████████| 2135/2135 [01:12<00:00, 29.57it/s]\n",
      "100%|█████████████████████████████████████████████████████████| 13074/13074 [04:24<00:00, 49.35it/s]\n",
      "100%|███████████████████████████████████████████████████████████| 2002/2002 [02:21<00:00, 14.14it/s]\n",
      "100%|█████████████████████████████████████████████████████████████| 134/134 [00:59<00:00,  2.25it/s]\n",
      "100%|█████████████████████████████████████████████████████████████| 818/818 [03:45<00:00,  3.63it/s]\n",
      "100%|███████████████████████████████████████████████████████████| 2135/2135 [01:11<00:00, 29.70it/s]\n",
      "100%|█████████████████████████████████████████████████████████| 13074/13074 [04:05<00:00, 53.29it/s]\n",
      "100%|███████████████████████████████████████████████████████████| 2002/2002 [02:19<00:00, 14.32it/s]\n"
     ]
    }
   ],
   "source": [
    "# Compute WildFusion similarity\n",
    "similarity = wildfusion(dataset_query, dataset_database, B=15)"
   ]
  },
  {
   "cell_type": "code",
   "execution_count": 9,
   "id": "ae84980b",
   "metadata": {
    "execution": {
     "iopub.execute_input": "2025-03-31T10:10:49.287879Z",
     "iopub.status.busy": "2025-03-31T10:10:49.287550Z",
     "iopub.status.idle": "2025-03-31T10:10:50.611761Z",
     "shell.execute_reply": "2025-03-31T10:10:50.610999Z"
    },
    "papermill": {
     "duration": 1.400817,
     "end_time": "2025-03-31T10:10:50.613168",
     "exception": false,
     "start_time": "2025-03-31T10:10:49.212351",
     "status": "completed"
    },
    "tags": []
   },
   "outputs": [],
   "source": [
    "pred_idx = similarity.argsort(axis=1)[:,-1]\n",
    "pred_scores = similarity[range(n_query), pred_idx]"
   ]
  },
  {
   "cell_type": "code",
   "execution_count": 10,
   "id": "cb2e44e9",
   "metadata": {
    "execution": {
     "iopub.execute_input": "2025-03-31T10:10:50.777585Z",
     "iopub.status.busy": "2025-03-31T10:10:50.777227Z",
     "iopub.status.idle": "2025-03-31T10:10:50.791990Z",
     "shell.execute_reply": "2025-03-31T10:10:50.791347Z"
    },
    "papermill": {
     "duration": 0.104754,
     "end_time": "2025-03-31T10:10:50.793127",
     "exception": false,
     "start_time": "2025-03-31T10:10:50.688373",
     "status": "completed"
    },
    "tags": []
   },
   "outputs": [],
   "source": [
    "new_individual = 'new_individual'\n",
    "threshold = 0.65\n",
    "labels = dataset_database.labels_string\n",
    "predictions = labels[pred_idx]\n",
    "predictions[pred_scores < threshold] = new_individual\n",
    "create_sample_submission(dataset_query, predictions, file_name='WildFusion(aliked+superpoint)_finetuned_mega244_alldata_baselinefeatunes_065.csv')"
   ]
  }
 ],
 "metadata": {
  "kaggle": {
   "accelerator": "gpu",
   "dataSources": [
    {
     "databundleVersionId": 11223220,
     "sourceId": 91451,
     "sourceType": "competition"
    },
    {
     "isSourceIdPinned": true,
     "modelId": 280884,
     "modelInstanceId": 259711,
     "sourceId": 305658,
     "sourceType": "modelInstanceVersion"
    },
    {
     "isSourceIdPinned": true,
     "modelId": 284826,
     "modelInstanceId": 263729,
     "sourceId": 310975,
     "sourceType": "modelInstanceVersion"
    }
   ],
   "dockerImageVersionId": 30919,
   "isGpuEnabled": true,
   "isInternetEnabled": true,
   "language": "python",
   "sourceType": "notebook"
  },
  "kernelspec": {
   "display_name": "Python 3",
   "language": "python",
   "name": "python3"
  },
  "language_info": {
   "codemirror_mode": {
    "name": "ipython",
    "version": 3
   },
   "file_extension": ".py",
   "mimetype": "text/x-python",
   "name": "python",
   "nbconvert_exporter": "python",
   "pygments_lexer": "ipython3",
   "version": "3.10.12"
  },
  "papermill": {
   "default_parameters": {},
   "duration": 1801.547827,
   "end_time": "2025-03-31T10:10:56.248638",
   "environment_variables": {},
   "exception": null,
   "input_path": "__notebook__.ipynb",
   "output_path": "__notebook__.ipynb",
   "parameters": {},
   "start_time": "2025-03-31T09:40:54.700811",
   "version": "2.6.0"
  },
  "widgets": {
   "application/vnd.jupyter.widget-state+json": {
    "state": {
     "0b9a1da1ad43422e8818e7556b933367": {
      "model_module": "@jupyter-widgets/controls",
      "model_module_version": "2.0.0",
      "model_name": "HTMLModel",
      "state": {
       "_dom_classes": [],
       "_model_module": "@jupyter-widgets/controls",
       "_model_module_version": "2.0.0",
       "_model_name": "HTMLModel",
       "_view_count": null,
       "_view_module": "@jupyter-widgets/controls",
       "_view_module_version": "2.0.0",
       "_view_name": "HTMLView",
       "description": "",
       "description_allow_html": false,
       "layout": "IPY_MODEL_8f2e5c48e8754d7491cb0fbbb40559e2",
       "placeholder": "​",
       "style": "IPY_MODEL_7d6aa6297e264242b48b0a5d403f37d6",
       "tabbable": null,
       "tooltip": null,
       "value": "config.json: 100%"
      }
     },
     "1044ff6c1afe40a887f18c08b1bb136e": {
      "model_module": "@jupyter-widgets/base",
      "model_module_version": "2.0.0",
      "model_name": "LayoutModel",
      "state": {
       "_model_module": "@jupyter-widgets/base",
       "_model_module_version": "2.0.0",
       "_model_name": "LayoutModel",
       "_view_count": null,
       "_view_module": "@jupyter-widgets/base",
       "_view_module_version": "2.0.0",
       "_view_name": "LayoutView",
       "align_content": null,
       "align_items": null,
       "align_self": null,
       "border_bottom": null,
       "border_left": null,
       "border_right": null,
       "border_top": null,
       "bottom": null,
       "display": null,
       "flex": null,
       "flex_flow": null,
       "grid_area": null,
       "grid_auto_columns": null,
       "grid_auto_flow": null,
       "grid_auto_rows": null,
       "grid_column": null,
       "grid_gap": null,
       "grid_row": null,
       "grid_template_areas": null,
       "grid_template_columns": null,
       "grid_template_rows": null,
       "height": null,
       "justify_content": null,
       "justify_items": null,
       "left": null,
       "margin": null,
       "max_height": null,
       "max_width": null,
       "min_height": null,
       "min_width": null,
       "object_fit": null,
       "object_position": null,
       "order": null,
       "overflow": null,
       "padding": null,
       "right": null,
       "top": null,
       "visibility": null,
       "width": null
      }
     },
     "23bb8db178cd4aa7b4357e1fc2ed2df4": {
      "model_module": "@jupyter-widgets/base",
      "model_module_version": "2.0.0",
      "model_name": "LayoutModel",
      "state": {
       "_model_module": "@jupyter-widgets/base",
       "_model_module_version": "2.0.0",
       "_model_name": "LayoutModel",
       "_view_count": null,
       "_view_module": "@jupyter-widgets/base",
       "_view_module_version": "2.0.0",
       "_view_name": "LayoutView",
       "align_content": null,
       "align_items": null,
       "align_self": null,
       "border_bottom": null,
       "border_left": null,
       "border_right": null,
       "border_top": null,
       "bottom": null,
       "display": null,
       "flex": null,
       "flex_flow": null,
       "grid_area": null,
       "grid_auto_columns": null,
       "grid_auto_flow": null,
       "grid_auto_rows": null,
       "grid_column": null,
       "grid_gap": null,
       "grid_row": null,
       "grid_template_areas": null,
       "grid_template_columns": null,
       "grid_template_rows": null,
       "height": null,
       "justify_content": null,
       "justify_items": null,
       "left": null,
       "margin": null,
       "max_height": null,
       "max_width": null,
       "min_height": null,
       "min_width": null,
       "object_fit": null,
       "object_position": null,
       "order": null,
       "overflow": null,
       "padding": null,
       "right": null,
       "top": null,
       "visibility": null,
       "width": null
      }
     },
     "3c52417b8048435d91ff36eb53b7bef8": {
      "model_module": "@jupyter-widgets/controls",
      "model_module_version": "2.0.0",
      "model_name": "HBoxModel",
      "state": {
       "_dom_classes": [],
       "_model_module": "@jupyter-widgets/controls",
       "_model_module_version": "2.0.0",
       "_model_name": "HBoxModel",
       "_view_count": null,
       "_view_module": "@jupyter-widgets/controls",
       "_view_module_version": "2.0.0",
       "_view_name": "HBoxView",
       "box_style": "",
       "children": [
        "IPY_MODEL_0b9a1da1ad43422e8818e7556b933367",
        "IPY_MODEL_6a69ed98ecf04bcf8ac9b9729b4f27a7",
        "IPY_MODEL_850578f8eccf4edd9845e5bcbc56a17f"
       ],
       "layout": "IPY_MODEL_1044ff6c1afe40a887f18c08b1bb136e",
       "tabbable": null,
       "tooltip": null
      }
     },
     "55cd0b0bdbcc479fb534cef1a942a756": {
      "model_module": "@jupyter-widgets/controls",
      "model_module_version": "2.0.0",
      "model_name": "ProgressStyleModel",
      "state": {
       "_model_module": "@jupyter-widgets/controls",
       "_model_module_version": "2.0.0",
       "_model_name": "ProgressStyleModel",
       "_view_count": null,
       "_view_module": "@jupyter-widgets/base",
       "_view_module_version": "2.0.0",
       "_view_name": "StyleView",
       "bar_color": null,
       "description_width": ""
      }
     },
     "6a69ed98ecf04bcf8ac9b9729b4f27a7": {
      "model_module": "@jupyter-widgets/controls",
      "model_module_version": "2.0.0",
      "model_name": "FloatProgressModel",
      "state": {
       "_dom_classes": [],
       "_model_module": "@jupyter-widgets/controls",
       "_model_module_version": "2.0.0",
       "_model_name": "FloatProgressModel",
       "_view_count": null,
       "_view_module": "@jupyter-widgets/controls",
       "_view_module_version": "2.0.0",
       "_view_name": "ProgressView",
       "bar_style": "success",
       "description": "",
       "description_allow_html": false,
       "layout": "IPY_MODEL_db71bb03195b4bf5b23b9a457e34d5f1",
       "max": 611.0,
       "min": 0.0,
       "orientation": "horizontal",
       "style": "IPY_MODEL_55cd0b0bdbcc479fb534cef1a942a756",
       "tabbable": null,
       "tooltip": null,
       "value": 611.0
      }
     },
     "7d6aa6297e264242b48b0a5d403f37d6": {
      "model_module": "@jupyter-widgets/controls",
      "model_module_version": "2.0.0",
      "model_name": "HTMLStyleModel",
      "state": {
       "_model_module": "@jupyter-widgets/controls",
       "_model_module_version": "2.0.0",
       "_model_name": "HTMLStyleModel",
       "_view_count": null,
       "_view_module": "@jupyter-widgets/base",
       "_view_module_version": "2.0.0",
       "_view_name": "StyleView",
       "background": null,
       "description_width": "",
       "font_size": null,
       "text_color": null
      }
     },
     "850578f8eccf4edd9845e5bcbc56a17f": {
      "model_module": "@jupyter-widgets/controls",
      "model_module_version": "2.0.0",
      "model_name": "HTMLModel",
      "state": {
       "_dom_classes": [],
       "_model_module": "@jupyter-widgets/controls",
       "_model_module_version": "2.0.0",
       "_model_name": "HTMLModel",
       "_view_count": null,
       "_view_module": "@jupyter-widgets/controls",
       "_view_module_version": "2.0.0",
       "_view_name": "HTMLView",
       "description": "",
       "description_allow_html": false,
       "layout": "IPY_MODEL_23bb8db178cd4aa7b4357e1fc2ed2df4",
       "placeholder": "​",
       "style": "IPY_MODEL_bdd7ff418c0641308634ff62f82b6bdd",
       "tabbable": null,
       "tooltip": null,
       "value": " 611/611 [00:00&lt;00:00, 58.1kB/s]"
      }
     },
     "8f2e5c48e8754d7491cb0fbbb40559e2": {
      "model_module": "@jupyter-widgets/base",
      "model_module_version": "2.0.0",
      "model_name": "LayoutModel",
      "state": {
       "_model_module": "@jupyter-widgets/base",
       "_model_module_version": "2.0.0",
       "_model_name": "LayoutModel",
       "_view_count": null,
       "_view_module": "@jupyter-widgets/base",
       "_view_module_version": "2.0.0",
       "_view_name": "LayoutView",
       "align_content": null,
       "align_items": null,
       "align_self": null,
       "border_bottom": null,
       "border_left": null,
       "border_right": null,
       "border_top": null,
       "bottom": null,
       "display": null,
       "flex": null,
       "flex_flow": null,
       "grid_area": null,
       "grid_auto_columns": null,
       "grid_auto_flow": null,
       "grid_auto_rows": null,
       "grid_column": null,
       "grid_gap": null,
       "grid_row": null,
       "grid_template_areas": null,
       "grid_template_columns": null,
       "grid_template_rows": null,
       "height": null,
       "justify_content": null,
       "justify_items": null,
       "left": null,
       "margin": null,
       "max_height": null,
       "max_width": null,
       "min_height": null,
       "min_width": null,
       "object_fit": null,
       "object_position": null,
       "order": null,
       "overflow": null,
       "padding": null,
       "right": null,
       "top": null,
       "visibility": null,
       "width": null
      }
     },
     "bdd7ff418c0641308634ff62f82b6bdd": {
      "model_module": "@jupyter-widgets/controls",
      "model_module_version": "2.0.0",
      "model_name": "HTMLStyleModel",
      "state": {
       "_model_module": "@jupyter-widgets/controls",
       "_model_module_version": "2.0.0",
       "_model_name": "HTMLStyleModel",
       "_view_count": null,
       "_view_module": "@jupyter-widgets/base",
       "_view_module_version": "2.0.0",
       "_view_name": "StyleView",
       "background": null,
       "description_width": "",
       "font_size": null,
       "text_color": null
      }
     },
     "db71bb03195b4bf5b23b9a457e34d5f1": {
      "model_module": "@jupyter-widgets/base",
      "model_module_version": "2.0.0",
      "model_name": "LayoutModel",
      "state": {
       "_model_module": "@jupyter-widgets/base",
       "_model_module_version": "2.0.0",
       "_model_name": "LayoutModel",
       "_view_count": null,
       "_view_module": "@jupyter-widgets/base",
       "_view_module_version": "2.0.0",
       "_view_name": "LayoutView",
       "align_content": null,
       "align_items": null,
       "align_self": null,
       "border_bottom": null,
       "border_left": null,
       "border_right": null,
       "border_top": null,
       "bottom": null,
       "display": null,
       "flex": null,
       "flex_flow": null,
       "grid_area": null,
       "grid_auto_columns": null,
       "grid_auto_flow": null,
       "grid_auto_rows": null,
       "grid_column": null,
       "grid_gap": null,
       "grid_row": null,
       "grid_template_areas": null,
       "grid_template_columns": null,
       "grid_template_rows": null,
       "height": null,
       "justify_content": null,
       "justify_items": null,
       "left": null,
       "margin": null,
       "max_height": null,
       "max_width": null,
       "min_height": null,
       "min_width": null,
       "object_fit": null,
       "object_position": null,
       "order": null,
       "overflow": null,
       "padding": null,
       "right": null,
       "top": null,
       "visibility": null,
       "width": null
      }
     }
    },
    "version_major": 2,
    "version_minor": 0
   }
  }
 },
 "nbformat": 4,
 "nbformat_minor": 5
}
